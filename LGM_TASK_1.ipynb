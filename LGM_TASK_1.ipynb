{
  "cells": [
    {
      "cell_type": "markdown",
      "source": [
        "**LGMVIPJANUARY**\n",
        "\n",
        "**DOMAIN: DATA SCIENCE**\n",
        "\n",
        "**NAME: YASH MEHTA**\n",
        "\n",
        "**TASK: Image to Pencil Sketch With Python**\n",
        "\n",
        "**LEVEL: Beginner**"
      ],
      "metadata": {
        "id": "h9E-GLDy8Ql6"
      }
    },
    {
      "cell_type": "markdown",
      "source": [
        "**importing required lib**"
      ],
      "metadata": {
        "id": "pzic055QCYEO"
      }
    },
    {
      "cell_type": "code",
      "source": [
        "import cv2"
      ],
      "metadata": {
        "id": "hH9Se6qU8QRT"
      },
      "execution_count": 2,
      "outputs": []
    },
    {
      "cell_type": "markdown",
      "source": [
        "**Reading Image and showing using ipython lib**"
      ],
      "metadata": {
        "id": "Oqh52FGTCguA"
      }
    },
    {
      "cell_type": "code",
      "source": [
        "image = cv2.imread(\"/content/tiger .jpg\")\n",
        "from google.colab.patches import cv2_imshow\n",
        "cv2_imshow(image)\n",
        "cv2.waitKey(0)"
      ],
      "metadata": {
        "id": "oYPI6_kl8ZzR"
      },
      "execution_count": null,
      "outputs": []
    },
    {
      "cell_type": "markdown",
      "source": [
        "**converting Original image to grayscale image**\n",
        "\n",
        "**For this we use cv2colour function to open cv**"
      ],
      "metadata": {
        "id": "ExQxbQyYC8nS"
      }
    },
    {
      "cell_type": "code",
      "source": [
        "gray_image = cv2.cvtColor(image, cv2.COLOR_BGR2GRAY)\n",
        "from google.colab.patches import cv2_imshow\n",
        "cv2_imshow(gray_image)\n",
        "cv2.waitKey()"
      ],
      "metadata": {
        "id": "_CQflKN6-OWt"
      },
      "execution_count": null,
      "outputs": []
    },
    {
      "cell_type": "markdown",
      "source": [
        "**Inverting grayscale image**\n",
        " \n",
        "**for this we use cv2 btwise function**"
      ],
      "metadata": {
        "id": "sNMdBTztDaSC"
      }
    },
    {
      "cell_type": "code",
      "source": [
        "inverted_image = 255 - gray_image\n",
        "from google.colab.patches import cv2_imshow\n",
        "cv2_imshow(inverted_image)\n",
        "cv2.waitKey()"
      ],
      "metadata": {
        "id": "IiCDvpix_4-m"
      },
      "execution_count": null,
      "outputs": []
    },
    {
      "cell_type": "markdown",
      "source": [
        "**Blurred Image** \n",
        "\n",
        "**for this we use Gaussain Function in Opencv**"
      ],
      "metadata": {
        "id": "IN9k22QqEDHj"
      }
    },
    {
      "cell_type": "code",
      "source": [
        "blurred = cv2.GaussianBlur(inverted_image, (21, 21), 0)\n",
        "from google.colab.patches import cv2_imshow\n",
        "cv2_imshow(blurred)\n",
        "cv2.waitKey(0)"
      ],
      "metadata": {
        "id": "FV3T1XjeAR8x"
      },
      "execution_count": null,
      "outputs": []
    },
    {
      "cell_type": "markdown",
      "source": [
        "**Inverted Blur Image**\n",
        "\n",
        "**After this we can create the pencil sketch by mixing the GrayScale Image with the inverted  BLurry Image**"
      ],
      "metadata": {
        "id": "UWL8rqLOEXv5"
      }
    },
    {
      "cell_type": "code",
      "source": [
        "inverted_blurred = 255 - blurred\n",
        "pencil_sketch = cv2.divide(gray_image, inverted_blurred, scale=256.0)\n",
        "from google.colab.patches import cv2_imshow\n",
        "cv2_imshow(pencil_sketch)\n",
        "cv2.waitKey(0)"
      ],
      "metadata": {
        "id": "mw4cA94jAY9-"
      },
      "execution_count": null,
      "outputs": []
    },
    {
      "cell_type": "markdown",
      "source": [
        "**Displaying the original image with the pencil sketch Image**"
      ],
      "metadata": {
        "id": "eg9LoESoE66r"
      }
    },
    {
      "cell_type": "code",
      "source": [
        "from google.colab.patches import cv2_imshow\n",
        "cv2_imshow(image)\n",
        "cv2_imshow(pencil_sketch)\n",
        "cv2.waitKey(0)"
      ],
      "metadata": {
        "id": "WtD8Ks0pAqm-"
      },
      "execution_count": null,
      "outputs": []
    }
  ],
  "metadata": {
    "colab": {
      "collapsed_sections": [],
      "name": "LGM_TASK_1",
      "provenance": []
    },
    "kernelspec": {
      "display_name": "Python 3",
      "name": "python3"
    }
  },
  "nbformat": 4,
  "nbformat_minor": 0
}